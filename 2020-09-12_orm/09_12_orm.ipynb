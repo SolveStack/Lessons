{
 "cells": [
  {
   "cell_type": "markdown",
   "metadata": {},
   "source": [
    "# Solvestack - Django ORM\n",
    "\n",
    "\n",
    "## Terms\n",
    "* Model\n",
    "    * Bonus: what's an instance of the Model class represent?\n",
    "* Querysets\n",
    "\n",
    "## Why ORM?\n",
    "It makes working with databases easier.  And it will allow us to manipulate data in specific ways that our applications need, so that our users can get the things they need."
   ]
  },
  {
   "cell_type": "markdown",
   "metadata": {},
   "source": [
    "## Migrating an existing database into a django project\n",
    "An excellent tutorial on this is found at:\n",
    "https://docs.djangoproject.com/en/3.1/howto/legacy-databases/\n",
    "\n",
    "For this exercise, we created a blank project and then:\n",
    "* Copied the chinook.db to the project folder, modifying NAME in settings.py to point\n",
    "* `python manage.py inspectdb`\n",
    "* Save models file with `python manage.py inspectdb > models.py`\n",
    "* Copy this file to the app folder, add the app `orm.apps.OrmConfig` to settings.py\n",
    "* Run `python manage.py migrate` and see if it works!  If not, tweak the models.py file until it does.\n",
    "    * I had to add a primary_key=True to PlaylistTrack class\n",
    "\n",
    "__NOTE: Relationships between fields must be defined properly in the model for querysets to join properly__"
   ]
  },
  {
   "cell_type": "markdown",
   "metadata": {},
   "source": [
    "## Looking at our data\n",
    "* Open up dbeaver.\n",
    "* Click on the add connection button, select sqlite, and find chinook.db in the mysite folder\n",
    "* Tables can be checked through here for changes we make - it gives you an alternate view on the data\n",
    "* Not necessary to have, but can be handy for quick checks"
   ]
  },
  {
   "cell_type": "markdown",
   "metadata": {},
   "source": [
    "## Queryset time!\n",
    "* At the terminal, navigate to the folder with manage.py (mysite root folder)\n",
    "* Activate your solvestack python virtual environment\n",
    "* Type `python manage.py shell`\n",
    "    * You may need to type `python3 manage.py shell` depending on your setup\n",
    "* At the new prompt:"
   ]
  },
  {
   "cell_type": "code",
   "execution_count": null,
   "metadata": {},
   "outputs": [],
   "source": [
    "from orm.models import Customers\n",
    "c = Customers.objects.all()\n",
    "for person in c: \n",
    "    print(person.firstname)"
   ]
  },
  {
   "cell_type": "markdown",
   "metadata": {},
   "source": [
    "### Breaking it down\n",
    "So what did the code above do specifically?\n",
    "* We first import the model for our customers table\n",
    "* We create a queryset of all records in the table and assign it to c\n",
    "    * To see what Customers.objects.all() translates to in SQL, run: `print(c.query)`\n",
    "* c, as our queryset, is an iterable object.  We can loop through each record in the set.\n",
    "* We loop through the queryset, printing values from the firstname property/field"
   ]
  },
  {
   "cell_type": "markdown",
   "metadata": {},
   "source": [
    "### Other ways of exploring querysets\n",
    "* By adding a __str__ function to a class in models.py to give a better representation when working with querysets in shell.  For example, by adding this function to the Customers class in models.py:"
   ]
  },
  {
   "cell_type": "code",
   "execution_count": null,
   "metadata": {},
   "outputs": [],
   "source": [
    "def __str__(self):\n",
    "        return f'{self.lastname}, {self.firstname}'"
   ]
  },
  {
   "cell_type": "markdown",
   "metadata": {},
   "source": [
    "* When typing `Customers.objects.all()` in the shell, you will see a custom representation of the data:\n",
    "```\n",
    "<QuerySet [<Customers: Gonçalves, Luís>, <Customers: , >, <Customers: Tremblay, François>, <Customers: Hansen, Bjørn>...\n",
    "```"
   ]
  },
  {
   "cell_type": "markdown",
   "metadata": {},
   "source": [
    "### Inserting items\n",
    "New items can be added to our tables like so using create():"
   ]
  },
  {
   "cell_type": "code",
   "execution_count": null,
   "metadata": {},
   "outputs": [],
   "source": [
    "from orm.models import Genres\n",
    "Genres.objects.create(name='New Genre')"
   ]
  },
  {
   "cell_type": "markdown",
   "metadata": {},
   "source": [
    "### Modifying items\n",
    "You can use model's get() method to isolate a single record, then modify the properties.\n",
    "\n",
    "I messed up our customer's information for customerid# 2.  Let's fix it!"
   ]
  },
  {
   "cell_type": "code",
   "execution_count": null,
   "metadata": {},
   "outputs": [],
   "source": [
    "from orm.models import Customers\n",
    "# modify a single field on a single record\n",
    "c = Customers.objects.get(customerid=2)\n",
    "c.firstname = 'Jill'\n",
    "c.save"
   ]
  },
  {
   "cell_type": "markdown",
   "metadata": {},
   "source": [
    "## Ordering objects\n",
    "You can flip the ordering (ascending vs descending) by adding a `-` in front of the field name"
   ]
  },
  {
   "cell_type": "code",
   "execution_count": null,
   "metadata": {},
   "outputs": [],
   "source": [
    "from orm.models import Invoices\n",
    "Invoices.objects.order_by('total')"
   ]
  },
  {
   "cell_type": "markdown",
   "metadata": {},
   "source": [
    "## Activity\n",
    "How can we make the output more readable to see the totals?"
   ]
  },
  {
   "cell_type": "markdown",
   "metadata": {},
   "source": [
    "### Filtering querysets\n",
    "If we were in the SQL world, a filter would be most like the WHERE statement\n",
    "* Run `c = Customers.objects.filter(company='Google Inc.')`\n",
    "    * We can see the equivelant SQL being generated by django with `print(c.query)`\n",
    "\n",
    "\n",
    "### Slicing querysets\n",
    "Sometimes you'd want to limit the amount of data you have in a set.  If you wanted to see the first five records: \n",
    "`Customers.objects.all()[:5]`\n",
    "* In SQL, you would use limit, in pandas you would use the head() method\n",
    "\n",
    "### Iterators\n",
    "We touched on this a little bit earlier, but querysets are iterable.  We can step through records, look for certain things, and behave depending on those things."
   ]
  },
  {
   "cell_type": "markdown",
   "metadata": {},
   "source": [
    "### Field lookups\n",
    "By making use of filter(), exclude(), and get() we can pull more granular querysets.  The parameters we pass to these methods can be customized further with field lookups.\n",
    "* Field lookups are indicated by double underscores.  Example: (field__lookuptype=value)\n",
    "* list of available lookup types:\n",
    "    * [exact](https://docs.djangoproject.com/en/dev/ref/models/querysets/#exact)\n",
    "    * [iexact](https://docs.djangoproject.com/en/dev/ref/models/querysets/#iexact)\n",
    "    * [contains](https://docs.djangoproject.com/en/dev/ref/models/querysets/#contains)\n",
    "    * [icontains](https://docs.djangoproject.com/en/dev/ref/models/querysets/#icontains)\n",
    "    * [in](https://docs.djangoproject.com/en/dev/ref/models/querysets/#in)\n",
    "    * [gt](https://docs.djangoproject.com/en/dev/ref/models/querysets/#gt)\n",
    "    * [gte](https://docs.djangoproject.com/en/dev/ref/models/querysets/#gte)\n",
    "    * [lt](https://docs.djangoproject.com/en/dev/ref/models/querysets/#lt)\n",
    "    * [lte](https://docs.djangoproject.com/en/dev/ref/models/querysets/#lte)\n",
    "    * [startswith](https://docs.djangoproject.com/en/dev/ref/models/querysets/#startswith)\n",
    "    * [istartswith](https://docs.djangoproject.com/en/dev/ref/models/querysets/#istartswith)\n",
    "    * [endswith](https://docs.djangoproject.com/en/dev/ref/models/querysets/#endswith)\n",
    "    * [iendswith](https://docs.djangoproject.com/en/dev/ref/models/querysets/#iendswith)\n",
    "    * [range](https://docs.djangoproject.com/en/dev/ref/models/querysets/#range)\n",
    "    * [year](https://docs.djangoproject.com/en/dev/ref/models/querysets/#year)\n",
    "    * [month](https://docs.djangoproject.com/en/dev/ref/models/querysets/#month)\n",
    "    * [day](https://docs.djangoproject.com/en/dev/ref/models/querysets/#day)\n",
    "    * [week_day](https://docs.djangoproject.com/en/dev/ref/models/querysets/#weekday)\n",
    "    * [isnull](https://docs.djangoproject.com/en/dev/ref/models/querysets/#isnull)\n",
    "    * [search](https://docs.djangoproject.com/en/dev/ref/models/querysets/#search)\n",
    "    * [regex](https://docs.djangoproject.com/en/dev/ref/models/querysets/#regex)\n",
    "    * [iregex](https://docs.djangoproject.com/en/dev/ref/models/querysets/#iregex)"
   ]
  },
  {
   "cell_type": "markdown",
   "metadata": {},
   "source": [
    "Let's try some of field lookups!\n",
    "* Run `Customers.objects.filter(company__contains='b')`\n",
    "\n",
    "\n",
    "## Aggregations\n",
    "```\n",
    "Customers.objects.count()\n",
    "Customers.objects.filter(company='Google Inc.').count()\n",
    "```"
   ]
  },
  {
   "cell_type": "markdown",
   "metadata": {},
   "source": [
    "## Workshop: What do people want?\n",
    "Let's take a look at the tables we have access to.\n",
    "* What sort of things would a potential customer want to view that we can query?\n",
    "* What sort of things would we as a company want to see that we can query?"
   ]
  }
 ],
 "metadata": {
  "kernelspec": {
   "display_name": "Python 3",
   "language": "python",
   "name": "python3"
  },
  "language_info": {
   "codemirror_mode": {
    "name": "ipython",
    "version": 3
   },
   "file_extension": ".py",
   "mimetype": "text/x-python",
   "name": "python",
   "nbconvert_exporter": "python",
   "pygments_lexer": "ipython3",
   "version": "3.8.5"
  }
 },
 "nbformat": 4,
 "nbformat_minor": 4
}
