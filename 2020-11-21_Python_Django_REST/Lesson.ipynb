{
 "cells": [
  {
   "cell_type": "markdown",
   "metadata": {},
   "source": [
    "# Django REST Python Coding Challenge\n",
    "\n",
    "Our long-term goal is to obtain a JSON response using this [Stacks Response](https://github.com/SolveStack/solvestack-frontend/blob/master/src/api/stacks.ts). For now, the coding challenge will use a very basic format for a stack. See the coding challenge Instructions below:\n",
    "\n",
    "[Coding Challenge Instructions](https://github.com/SolveStack/stacks-api/blob/master/CODING%20CHALLENGE.md)\n",
    "\n",
    "\n",
    "For reference, here's the [python solvestack backend repository](https://github.com/SolveStack/solvestack_backend).\n",
    "\n",
    "If you have never cloned the repository:\n",
    "`git clone https://github.com/SolveStack/solvestack_backend`\n",
    "\n",
    "If you have already cloned the repository:\n",
    "\n",
    "```bash\n",
    "git status # check for outstanding code not committed yet\n",
    "git checkout .  # This removes any outstanding code not committed yet and cleans your repo\n",
    "git status # check the changed files no longer show\n",
    "# at this step remove any additional files that you made (listed in the \"untracked\" section\n",
    "git checkout master # change to the master branch\n",
    "git pull origin master # get the latest changes from the remote repo onto your local machine\n",
    "git fetch # get all the refs from the different branches (doesn't get code, just records of the changes)\n",
    "# this also lets you make sure all of the branches on remote are known by your local machine\n",
    "```\n",
    "\n",
    "All:\n",
    "\n",
    "```bash\n",
    "git checkout nov-21-lesson\n",
    "```"
   ]
  }
 ],
 "metadata": {
  "kernelspec": {
   "display_name": "Python 3",
   "language": "python",
   "name": "python3"
  },
  "language_info": {
   "codemirror_mode": {
    "name": "ipython",
    "version": 3
   },
   "file_extension": ".py",
   "mimetype": "text/x-python",
   "name": "python",
   "nbconvert_exporter": "python",
   "pygments_lexer": "ipython3",
   "version": "3.9.0"
  }
 },
 "nbformat": 4,
 "nbformat_minor": 4
}
